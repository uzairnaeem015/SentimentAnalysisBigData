{
  "cells": [
    {
      "cell_type": "code",
      "execution_count": null,
      "metadata": {
        "colab": {
          "base_uri": "https://localhost:8080/"
        },
        "id": "tOEGdlxTqzSF",
        "outputId": "1ad11df2-9f34-4f77-e912-2b9efa306c0a"
      },
      "outputs": [
        {
          "output_type": "stream",
          "name": "stdout",
          "text": [
            "Looking in indexes: https://pypi.org/simple, https://us-python.pkg.dev/colab-wheels/public/simple/\n",
            "Requirement already satisfied: pyspark in /usr/local/lib/python3.9/dist-packages (3.4.0)\n",
            "Requirement already satisfied: py4j==0.10.9.7 in /usr/local/lib/python3.9/dist-packages (from pyspark) (0.10.9.7)\n"
          ]
        }
      ],
      "source": [
        "!pip install pyspark"
      ]
    },
    {
      "cell_type": "code",
      "execution_count": null,
      "metadata": {
        "colab": {
          "base_uri": "https://localhost:8080/"
        },
        "id": "hvGjO_GOrg9B",
        "outputId": "975ca74a-7cd8-4d40-9125-0df4245f1fd6"
      },
      "outputs": [
        {
          "output_type": "stream",
          "name": "stdout",
          "text": [
            "Looking in indexes: https://pypi.org/simple, https://us-python.pkg.dev/colab-wheels/public/simple/\n",
            "Requirement already satisfied: PyDrive in /usr/local/lib/python3.9/dist-packages (1.3.1)\n",
            "Requirement already satisfied: PyYAML>=3.0 in /usr/local/lib/python3.9/dist-packages (from PyDrive) (6.0)\n",
            "Requirement already satisfied: oauth2client>=4.0.0 in /usr/local/lib/python3.9/dist-packages (from PyDrive) (4.1.3)\n",
            "Requirement already satisfied: google-api-python-client>=1.2 in /usr/local/lib/python3.9/dist-packages (from PyDrive) (2.84.0)\n",
            "Requirement already satisfied: uritemplate<5,>=3.0.1 in /usr/local/lib/python3.9/dist-packages (from google-api-python-client>=1.2->PyDrive) (4.1.1)\n",
            "Requirement already satisfied: google-auth-httplib2>=0.1.0 in /usr/local/lib/python3.9/dist-packages (from google-api-python-client>=1.2->PyDrive) (0.1.0)\n",
            "Requirement already satisfied: google-auth<3.0.0dev,>=1.19.0 in /usr/local/lib/python3.9/dist-packages (from google-api-python-client>=1.2->PyDrive) (2.17.3)\n",
            "Requirement already satisfied: httplib2<1dev,>=0.15.0 in /usr/local/lib/python3.9/dist-packages (from google-api-python-client>=1.2->PyDrive) (0.21.0)\n",
            "Requirement already satisfied: google-api-core!=2.0.*,!=2.1.*,!=2.2.*,!=2.3.0,<3.0.0dev,>=1.31.5 in /usr/local/lib/python3.9/dist-packages (from google-api-python-client>=1.2->PyDrive) (2.11.0)\n",
            "Requirement already satisfied: pyasn1>=0.1.7 in /usr/local/lib/python3.9/dist-packages (from oauth2client>=4.0.0->PyDrive) (0.5.0)\n",
            "Requirement already satisfied: rsa>=3.1.4 in /usr/local/lib/python3.9/dist-packages (from oauth2client>=4.0.0->PyDrive) (4.9)\n",
            "Requirement already satisfied: pyasn1-modules>=0.0.5 in /usr/local/lib/python3.9/dist-packages (from oauth2client>=4.0.0->PyDrive) (0.3.0)\n",
            "Requirement already satisfied: six>=1.6.1 in /usr/local/lib/python3.9/dist-packages (from oauth2client>=4.0.0->PyDrive) (1.16.0)\n",
            "Requirement already satisfied: protobuf!=3.20.0,!=3.20.1,!=4.21.0,!=4.21.1,!=4.21.2,!=4.21.3,!=4.21.4,!=4.21.5,<5.0.0dev,>=3.19.5 in /usr/local/lib/python3.9/dist-packages (from google-api-core!=2.0.*,!=2.1.*,!=2.2.*,!=2.3.0,<3.0.0dev,>=1.31.5->google-api-python-client>=1.2->PyDrive) (3.20.3)\n",
            "Requirement already satisfied: requests<3.0.0dev,>=2.18.0 in /usr/local/lib/python3.9/dist-packages (from google-api-core!=2.0.*,!=2.1.*,!=2.2.*,!=2.3.0,<3.0.0dev,>=1.31.5->google-api-python-client>=1.2->PyDrive) (2.27.1)\n",
            "Requirement already satisfied: googleapis-common-protos<2.0dev,>=1.56.2 in /usr/local/lib/python3.9/dist-packages (from google-api-core!=2.0.*,!=2.1.*,!=2.2.*,!=2.3.0,<3.0.0dev,>=1.31.5->google-api-python-client>=1.2->PyDrive) (1.59.0)\n",
            "Requirement already satisfied: cachetools<6.0,>=2.0.0 in /usr/local/lib/python3.9/dist-packages (from google-auth<3.0.0dev,>=1.19.0->google-api-python-client>=1.2->PyDrive) (5.3.0)\n",
            "Requirement already satisfied: pyparsing!=3.0.0,!=3.0.1,!=3.0.2,!=3.0.3,<4,>=2.4.2 in /usr/local/lib/python3.9/dist-packages (from httplib2<1dev,>=0.15.0->google-api-python-client>=1.2->PyDrive) (3.0.9)\n",
            "Requirement already satisfied: certifi>=2017.4.17 in /usr/local/lib/python3.9/dist-packages (from requests<3.0.0dev,>=2.18.0->google-api-core!=2.0.*,!=2.1.*,!=2.2.*,!=2.3.0,<3.0.0dev,>=1.31.5->google-api-python-client>=1.2->PyDrive) (2022.12.7)\n",
            "Requirement already satisfied: charset-normalizer~=2.0.0 in /usr/local/lib/python3.9/dist-packages (from requests<3.0.0dev,>=2.18.0->google-api-core!=2.0.*,!=2.1.*,!=2.2.*,!=2.3.0,<3.0.0dev,>=1.31.5->google-api-python-client>=1.2->PyDrive) (2.0.12)\n",
            "Requirement already satisfied: idna<4,>=2.5 in /usr/local/lib/python3.9/dist-packages (from requests<3.0.0dev,>=2.18.0->google-api-core!=2.0.*,!=2.1.*,!=2.2.*,!=2.3.0,<3.0.0dev,>=1.31.5->google-api-python-client>=1.2->PyDrive) (3.4)\n",
            "Requirement already satisfied: urllib3<1.27,>=1.21.1 in /usr/local/lib/python3.9/dist-packages (from requests<3.0.0dev,>=2.18.0->google-api-core!=2.0.*,!=2.1.*,!=2.2.*,!=2.3.0,<3.0.0dev,>=1.31.5->google-api-python-client>=1.2->PyDrive) (1.26.15)\n"
          ]
        }
      ],
      "source": [
        "pip install PyDrive"
      ]
    },
    {
      "cell_type": "code",
      "execution_count": null,
      "metadata": {
        "id": "YmMWrJfZnKob"
      },
      "outputs": [],
      "source": [
        "!apt-get install openjdk-8-jdk-headless -qq > /dev/null\n",
        "#!wget -q https://dlcdn.apache.org/spark/spark-3.0.3/spark-3.0.3-bin-hadoop2.7.tgz\n",
        "!wget -q https://dlcdn.apache.org/spark/spark-3.3.2/spark-3.3.2-bin-hadoop2.tgz\n",
        "!tar xf spark-3.3.2-bin-hadoop2.tgz\n",
        "!pip install -q findspark"
      ]
    },
    {
      "cell_type": "code",
      "execution_count": null,
      "metadata": {
        "id": "hyaSmpAHnNic"
      },
      "outputs": [],
      "source": [
        "import os\n",
        "os.environ[\"JAVA_HOME\"] = \"/usr/lib/jvm/java-8-openjdk-amd64\"\n",
        "os.environ[\"SPARK_HOME\"] = \"/content/spark-3.3.2-bin-hadoop2\""
      ]
    },
    {
      "cell_type": "code",
      "execution_count": null,
      "metadata": {
        "id": "Q2QMhOv7nE5l"
      },
      "outputs": [],
      "source": [
        "import findspark\n",
        "findspark.init()\n",
        "from pyspark.sql import SparkSession\n",
        "spark = SparkSession.builder.master(\"local[*]\").getOrCreate()"
      ]
    },
    {
      "cell_type": "code",
      "execution_count": null,
      "metadata": {
        "id": "jzPf86hZriSw"
      },
      "outputs": [],
      "source": [
        "#from pyspark.sql import SparkSession\n",
        "from pydrive.auth import GoogleAuth\n",
        "from pydrive.drive import GoogleDrive\n",
        "import pandas as pd\n",
        "from pyspark.sql.functions import col\n",
        "\n",
        "import matplotlib.pyplot as plt\n",
        "import seaborn as sns \n",
        "\n",
        "from google.colab import auth\n",
        "from oauth2client.client import GoogleCredentials"
      ]
    },
    {
      "cell_type": "code",
      "execution_count": null,
      "metadata": {
        "id": "s9sPV3lQv68b"
      },
      "outputs": [],
      "source": [
        "auth.authenticate_user()\n",
        "gauth = GoogleAuth()\n",
        "\n",
        "gauth.credentials = GoogleCredentials.get_application_default()\n",
        "drive = GoogleDrive(gauth)"
      ]
    },
    {
      "cell_type": "code",
      "execution_count": null,
      "metadata": {
        "id": "uAA7PG61xpIU"
      },
      "outputs": [],
      "source": [
        "#spark app and read file saved in google drive\n",
        "#spark = SparkSession.builder.appName('ReadFromGoogleDrive').getOrCreate()\n",
        "#all_data_new.csv https://drive.google.com/file/d/1fLxiVNkZkr0Hi-tYskxKezGEJW5bLaa7/view?usp=sharing\n",
        "#file_id = '1iNWfAbYUS3OtBN7M49WHgHVYbG8mrb-g' #  all_data.csv\n",
        "file_id = '1fLxiVNkZkr0Hi-tYskxKezGEJW5bLaa7' # all_data_new.csv\n",
        "file = drive.CreateFile({'id': file_id})\n",
        "file.GetContentFile('all_data_new.csv')"
      ]
    },
    {
      "cell_type": "code",
      "execution_count": null,
      "metadata": {
        "id": "_CuUe5FvSZ98"
      },
      "outputs": [],
      "source": [
        "# glove.840B.300d.gensim.vectors.npy\n",
        "# https://drive.google.com/file/d/12kuhA6sknWTWJqFwNZykhd7x3x1OyhIb/view?usp=sharing\n",
        "\n",
        "file_id2 = '12kuhA6sknWTWJqFwNZykhd7x3x1OyhIb'\n",
        "file2 = drive.CreateFile({'id': file_id2})\n",
        "file2.GetContentFile('glove.840B.300d.gensim.vectors.npy')"
      ]
    },
    {
      "cell_type": "code",
      "execution_count": null,
      "metadata": {
        "id": "g0C2tdXfSh3Y"
      },
      "outputs": [],
      "source": [
        "# glove.840B.300d.gensim\n",
        "# https://drive.google.com/file/d/1N-XZv5lzoWt3mUz0CVr6YePL6A4sQLFk/view?usp=sharing\n",
        "\n",
        "file_id3 = '1N-XZv5lzoWt3mUz0CVr6YePL6A4sQLFk'\n",
        "file3 = drive.CreateFile({'id': file_id3})\n",
        "file3.GetContentFile('glove.840B.300d.gensim')"
      ]
    },
    {
      "cell_type": "code",
      "execution_count": null,
      "metadata": {
        "id": "UKU8tyYQSrXa"
      },
      "outputs": [],
      "source": [
        "# crawl-300d-2M.gensim.vectors.npy\n",
        "# https://drive.google.com/file/d/1W4nxpJomRWtx_ghOthBMnxgJj2WMPLqV/view?usp=sharing\n",
        "#file_id4 = '1W4nxpJomRWtx_ghOthBMnxgJj2WMPLqV'\n",
        "#file4 = drive.CreateFile({'id': file_id4})\n",
        "#file4.GetContentFile('crawl-300d-2M.gensim.vectors.npy')"
      ]
    },
    {
      "cell_type": "code",
      "execution_count": null,
      "metadata": {
        "id": "TOv8V5MzSy9P"
      },
      "outputs": [],
      "source": [
        "# crawl-300d-2M.gensim\n",
        "# https://drive.google.com/file/d/1C9omEQpXJepKMF7wZ9eULs9DLx_DAGyJ/view?usp=sharing\n",
        "\n",
        "#file_id5 = '1C9omEQpXJepKMF7wZ9eULs9DLx_DAGyJ'\n",
        "#file5 = drive.CreateFile({'id': file_id5})\n",
        "#file5.GetContentFile('crawl-300d-2M.gensim')"
      ]
    },
    {
      "cell_type": "code",
      "execution_count": null,
      "metadata": {
        "colab": {
          "base_uri": "https://localhost:8080/"
        },
        "id": "3e9O7f9vxxXp",
        "outputId": "b1e86b5e-d525-4eda-84d6-c636636c9064"
      },
      "outputs": [
        {
          "output_type": "stream",
          "name": "stdout",
          "text": [
            "+--------------------+--------------------+-----+--------------------+--------------+---------+----------+--------+-----+---+---+-----+--------+-------------------+--------------------+--------------------+--------------------+--------------------+--------------------+--------------------+----+------+-----------+------------+------------+-------------------------+--------+------------------------+---------+------+------+-----+--------+-------+--------------+-----+-----+-----+------+-----------------------+-------------------+-----------------------------------+-----------------------------+----------------+------------------------+------------------------+\n",
            "|                  id|        comment_text|split|        created_date|publication_id|parent_id|article_id|  rating|funny|wow|sad|likes|disagree|           toxicity|     severe_toxicity|             obscene|     sexual_explicit|     identity_attack|              insult|              threat|male|female|transgender|other_gender|heterosexual|homosexual_gay_or_lesbian|bisexual|other_sexual_orientation|christian|jewish|muslim|hindu|buddhist|atheist|other_religion|black|white|asian|latino|other_race_or_ethnicity|physical_disability|intellectual_or_learning_disability|psychiatric_or_mental_illness|other_disability|identity_annotator_count|toxicity_annotator_count|\n",
            "+--------------------+--------------------+-----+--------------------+--------------+---------+----------+--------+-----+---+---+-----+--------+-------------------+--------------------+--------------------+--------------------+--------------------+--------------------+--------------------+----+------+-----------+------------+------------+-------------------------+--------+------------------------+---------+------+------+-----+--------+-------+--------------+-----+-----+-----+------+-----------------------+-------------------+-----------------------------------+-----------------------------+----------------+------------------------+------------------------+\n",
            "|             1083994|He got his money....|train|2017-03-06 15:21:...|            21|     null|    317120|approved|    0|  0|  0|    2|       0|  0.373134328358209| 0.04477611940298507| 0.08955223880597014| 0.01492537313432836|                 0.0| 0.34328358208955223| 0.01492537313432836|null|  null|       null|        null|        null|                     null|    null|                    null|     null|  null|  null| null|    null|   null|          null| null| null| null|  null|                   null|               null|                               null|                         null|            null|                       0|                      67|\n",
            "|              650904|Mad dog will sure...|train|2016-12-02 16:44:...|            21|     null|    154086|approved|    0|  0|  1|    2|       0| 0.6052631578947368|0.013157894736842105| 0.06578947368421052|0.013157894736842105| 0.09210526315789473|  0.5657894736842105| 0.06578947368421052|null|  null|       null|        null|        null|                     null|    null|                    null|     null|  null|  null| null|    null|   null|          null| null| null| null|  null|                   null|               null|                               null|                         null|            null|                       0|                      76|\n",
            "|             5902188|And Trump continu...|train|2017-09-05 19:05:...|            55|     null|    374342|approved|    1|  0|  2|    3|       7| 0.6666666666666666|0.015873015873015872|0.031746031746031744|                 0.0|0.047619047619047616|  0.6666666666666666|                 0.0|null|  null|       null|        null|        null|                     null|    null|                    null|     null|  null|  null| null|    null|   null|          null| null| null| null|  null|                   null|               null|                               null|                         null|            null|                       0|                      63|\n",
            "|If you cop-sucker...| then go suck the...| test|2016-11-01 16:53:...|            13|     null|    149218|approved|    0|  0|  0|    0|       0| 0.8157894736842106| 0.06578947368421052|  0.5526315789473685|  0.5921052631578946|                 0.0|  0.6842105263157895| 0.10526315789473684|null|  null|       null|        null|        null|                     null|    null|                    null|     null|  null|  null| null|    null|   null|          null| null| null| null|  null|                   null|               null|                               null|                         null|            null|                       0|                      76|\n",
            "|             5410943|Tucker and Paul a...|train|2017-06-14 05:08:...|            21|     null|    344096|approved|    0|  0|  0|    1|       0|               0.55|              0.0375|              0.3375|               0.275|              0.0375|              0.4875|                 0.0|null|  null|       null|        null|        null|                     null|    null|                    null|     null|  null|  null| null|    null|   null|          null| null| null| null|  null|                   null|               null|                               null|                         null|            null|                       0|                      80|\n",
            "|             6290444|Cry me a river, w...|train|2017-11-04 22:04:...|            54|6290143.0|    396946|rejected|    0|  0|  0|    0|       0|0.20338983050847456| 0.01694915254237288| 0.05084745762711865|                 0.0| 0.03389830508474576| 0.20338983050847456|                 0.0|null|  null|       null|        null|        null|                     null|    null|                    null|     null|  null|  null| null|    null|   null|          null| null| null| null|  null|                   null|               null|                               null|                         null|            null|                       0|                      59|\n",
            "|             5730298|That is Child Abu...|train|2017-08-08 09:30:...|            55|     null|    364090|approved|    0|  0|  0|    1|       0|0.19298245614035087|                 0.0|                 0.0| 0.10526315789473684|                 0.0|0.035087719298245605| 0.07017543859649121|null|  null|       null|        null|        null|                     null|    null|                    null|     null|  null|  null| null|    null|   null|          null| null| null| null|  null|                   null|               null|                               null|                         null|            null|                       0|                      57|\n",
            "|             5167187|That's right. The...|train|2017-04-23 05:37:...|            21|5166939.0|    328935|rejected|    0|  0|  0|    0|       0| 0.8032786885245901| 0.06557377049180327|0.049180327868852465|  0.0819672131147541| 0.13114754098360654|  0.7540983606557377|0.016393442622950817|null|  null|       null|        null|        null|                     null|    null|                    null|     null|  null|  null| null|    null|   null|          null| null| null| null|  null|                   null|               null|                               null|                         null|            null|                       0|                      61|\n",
            "|             5263240|Only a fool would...|train|2017-05-16 17:18:...|            54|5262909.0|    334963|approved|    2|  0|  1|    3|       5| 0.7105263157894737|0.013157894736842105| 0.06578947368421052|                 0.0|0.013157894736842105|  0.6578947368421053|0.013157894736842105|null|  null|       null|        null|        null|                     null|    null|                    null|     null|  null|  null| null|    null|   null|          null| null| null| null|  null|                   null|               null|                               null|                         null|            null|                       0|                      76|\n",
            "|             7141509|NO !  There are n...| test|2017-01-30 02:53:...|            21| 919529.0|    164687|approved|    1|  0|  0|    0|       0| 0.5972222222222222|0.013888888888888888| 0.09722222222222222|                 0.0| 0.09722222222222222|  0.5833333333333334|                 0.0|null|  null|       null|        null|        null|                     null|    null|                    null|     null|  null|  null| null|    null|   null|          null| null| null| null|  null|                   null|               null|                               null|                         null|            null|                       0|                      72|\n",
            "|             7077814|the more you whin...| test|2016-12-03 00:17:...|            54| 649753.0|    154126|approved|    0|  0|  0|    0|       0|               0.65|                 0.0|                0.05|               0.125|                 0.0|                 0.6|              0.1125|null|  null|       null|        null|        null|                     null|    null|                    null|     null|  null|  null| null|    null|   null|          null| null| null| null|  null|                   null|               null|                               null|                         null|            null|                       0|                      80|\n",
            "|             5569999|Wow, some mental ...|train|2017-07-11 08:02:...|           100|5569583.0|    353850|approved|    3|  0|  0|    1|       0|  0.463768115942029|0.014492753623188406|0.014492753623188406|                 0.0|0.014492753623188406|   0.463768115942029|                 0.0|null|  null|       null|        null|        null|                     null|    null|                    null|     null|  null|  null| null|    null|   null|          null| null| null| null|  null|                   null|               null|                               null|                         null|            null|                       0|                      69|\n",
            "|             6187249|         Disgusting.|train|2017-10-20 14:03:...|           102|     null|    391358|rejected|    0|  0|  0|    0|       0| 0.6065573770491803|0.016393442622950817| 0.11475409836065575|                 0.0|                 0.0|  0.5573770491803278|                 0.0|null|  null|       null|        null|        null|                     null|    null|                    null|     null|  null|  null| null|    null|   null|          null| null| null| null|  null|                   null|               null|                               null|                         null|            null|                       0|                      61|\n",
            "|             5335665|Just who  does th...|train|2017-05-31 20:54:...|           102|     null|    339306|approved|    0|  0|  0|    2|       0| 0.5303030303030303|0.015151515151515154|0.015151515151515154|                 0.0|                 0.0|  0.5151515151515152|                 0.0|null|  null|       null|        null|        null|                     null|    null|                    null|     null|  null|  null| null|    null|   null|          null| null| null| null|  null|                   null|               null|                               null|                         null|            null|                       0|                      66|\n",
            "|              410090|This is just disg...|train|2016-07-31 15:46:...|            21|     null|    142699|approved|    0|  0|  0|    1|       0| 0.3448275862068966| 0.05172413793103448|0.017241379310344827|                 0.0|                 0.0|  0.3103448275862069| 0.05172413793103448|null|  null|       null|        null|        null|                     null|    null|                    null|     null|  null|  null| null|    null|   null|          null| null| null| null|  null|                   null|               null|                               null|                         null|            null|                       0|                      58|\n",
            "|              320268|because the Orego...|train|2016-05-19 22:22:...|            13| 320131.0|     86715|approved|    0|  0|  0|    0|       0| 0.7361111111111109|0.041666666666666664|               0.125|0.013888888888888888|0.027777777777777776|  0.7222222222222222|                 0.0|null|  null|       null|        null|        null|                     null|    null|                    null|     null|  null|  null| null|    null|   null|          null| null| null| null|  null|                   null|               null|                               null|                         null|            null|                       0|                      72|\n",
            "|             5944378|                gtfo|train|2017-09-13 06:28:...|            66|5928990.0|    376157|rejected|    0|  0|  0|    0|       0|0.08620689655172414|                 0.0| 0.08620689655172414|                 0.0|                 0.0| 0.03448275862068965|0.017241379310344827|null|  null|       null|        null|        null|                     null|    null|                    null|     null|  null|  null| null|    null|   null|          null| null| null| null|  null|                   null|               null|                               null|                         null|            null|                       0|                      58|\n",
            "|             5264929|All you ever talk...|train|2017-05-16 23:19:...|            21|5263333.0|    334974|rejected|    0|  0|  0|    0|       0| 0.6461538461538462| 0.07692307692307693|                 0.0|                 0.0|0.030769230769230767|                 0.6| 0.18461538461538465|null|  null|       null|        null|        null|                     null|    null|                    null|     null|  null|  null| null|    null|   null|          null| null| null| null|  null|                   null|               null|                               null|                         null|            null|                       0|                      65|\n",
            "|             5521110|yep, this crap so...|train|2017-07-03 16:59:...|           102|     null|    347898|rejected|    0|  0|  0|    0|       0| 0.8333333333333333|0.045454545454545456|   0.696969696969697|                 0.0| 0.09090909090909093|  0.5757575757575758|                 0.0|null|  null|       null|        null|        null|                     null|    null|                    null|     null|  null|  null| null|    null|   null|          null| null| null| null|  null|                   null|               null|                               null|                         null|            null|                       0|                      66|\n",
            "|             5124938|\"IRT Marilyn\\nwha...|train|2017-04-12 16:39:...|            55|5124056.0|    326348|approved|    0|  0|  0|    3|       1| 0.8032786885245901|0.016393442622950817|0.049180327868852465|                 0.0|0.049180327868852465|  0.7704918032786885|                 0.0|null|  null|       null|        null|        null|                     null|    null|                    null|     null|  null|  null| null|    null|   null|          null| null| null| null|  null|                   null|               null|                               null|                         null|            null|                       0|                      61|\n",
            "+--------------------+--------------------+-----+--------------------+--------------+---------+----------+--------+-----+---+---+-----+--------+-------------------+--------------------+--------------------+--------------------+--------------------+--------------------+--------------------+----+------+-----------+------------+------------+-------------------------+--------+------------------------+---------+------+------+-----+--------+-------+--------------+-----+-----+-----+------+-----------------------+-------------------+-----------------------------------+-----------------------------+----------------+------------------------+------------------------+\n",
            "only showing top 20 rows\n",
            "\n"
          ]
        }
      ],
      "source": [
        "sparkdf = spark.read.format(\"com.dtabricks.spark.csv\").option(\"delimiter\",\",\").option(\"multiline\", \"true\").option(\"mode\", \"DROPMALFORMED\").option(\"header\", True).option(\"inferschema\", True).csv(\"all_data_new.csv\")\n",
        "#sparkdf = spark.read.format(\"com.dtabricks.spark.csv\").option(\"header\", True).csv(\"all_data.csv\")\n",
        "sparkdf.show()"
      ]
    },
    {
      "cell_type": "code",
      "execution_count": null,
      "metadata": {
        "colab": {
          "base_uri": "https://localhost:8080/"
        },
        "id": "pH3p_jfH2qze",
        "outputId": "62216cb7-3a38-4c85-92aa-d7281318c0aa"
      },
      "outputs": [
        {
          "output_type": "stream",
          "name": "stdout",
          "text": [
            "+-------+--------------------+\n",
            "|summary|               split|\n",
            "+-------+--------------------+\n",
            "|  count|                6359|\n",
            "|   mean|              1005.5|\n",
            "| stddev|   1421.991736966147|\n",
            "|    min|                    |\n",
            "|    max|” French said.\"\" ...|\n",
            "+-------+--------------------+\n",
            "\n"
          ]
        }
      ],
      "source": [
        "sparkdf.describe(\"split\").show()"
      ]
    },
    {
      "cell_type": "markdown",
      "metadata": {
        "id": "q5HDBKtO3TeR"
      },
      "source": [
        "# Analysis\n",
        "\n",
        "\n"
      ]
    },
    {
      "cell_type": "code",
      "execution_count": null,
      "metadata": {
        "colab": {
          "base_uri": "https://localhost:8080/"
        },
        "id": "_YTbGnjX3SvQ",
        "outputId": "8e6dee29-b0ee-4723-c64e-8a5f9ebc5358"
      },
      "outputs": [
        {
          "output_type": "stream",
          "name": "stdout",
          "text": [
            "+-------+--------------------+-----+--------------------+--------------+---------+----------+--------+-----+---+---+-----+--------+-------------------+--------------------+--------------------+--------------------+--------------------+--------------------+--------------------+----+------+-----------+------------+------------+-------------------------+--------+------------------------+---------+------+------+-----+--------+-------+--------------+-----+-----+-----+------+-----------------------+-------------------+-----------------------------------+-----------------------------+----------------+------------------------+------------------------+\n",
            "|     id|        comment_text|split|        created_date|publication_id|parent_id|article_id|  rating|funny|wow|sad|likes|disagree|           toxicity|     severe_toxicity|             obscene|     sexual_explicit|     identity_attack|              insult|              threat|male|female|transgender|other_gender|heterosexual|homosexual_gay_or_lesbian|bisexual|other_sexual_orientation|christian|jewish|muslim|hindu|buddhist|atheist|other_religion|black|white|asian|latino|other_race_or_ethnicity|physical_disability|intellectual_or_learning_disability|psychiatric_or_mental_illness|other_disability|identity_annotator_count|toxicity_annotator_count|\n",
            "+-------+--------------------+-----+--------------------+--------------+---------+----------+--------+-----+---+---+-----+--------+-------------------+--------------------+--------------------+--------------------+--------------------+--------------------+--------------------+----+------+-----------+------------+------------+-------------------------+--------+------------------------+---------+------+------+-----+--------+-------+--------------+-----+-----+-----+------+-----------------------+-------------------+-----------------------------------+-----------------------------+----------------+------------------------+------------------------+\n",
            "|1083994|He got his money....|train|2017-03-06 15:21:...|            21|     null|    317120|approved|    0|  0|  0|    2|       0|  0.373134328358209| 0.04477611940298507| 0.08955223880597014| 0.01492537313432836|                 0.0| 0.34328358208955223| 0.01492537313432836|null|  null|       null|        null|        null|                     null|    null|                    null|     null|  null|  null| null|    null|   null|          null| null| null| null|  null|                   null|               null|                               null|                         null|            null|                       0|                      67|\n",
            "| 650904|Mad dog will sure...|train|2016-12-02 16:44:...|            21|     null|    154086|approved|    0|  0|  1|    2|       0| 0.6052631578947368|0.013157894736842105| 0.06578947368421052|0.013157894736842105| 0.09210526315789473|  0.5657894736842105| 0.06578947368421052|null|  null|       null|        null|        null|                     null|    null|                    null|     null|  null|  null| null|    null|   null|          null| null| null| null|  null|                   null|               null|                               null|                         null|            null|                       0|                      76|\n",
            "|5902188|And Trump continu...|train|2017-09-05 19:05:...|            55|     null|    374342|approved|    1|  0|  2|    3|       7| 0.6666666666666666|0.015873015873015872|0.031746031746031744|                 0.0|0.047619047619047616|  0.6666666666666666|                 0.0|null|  null|       null|        null|        null|                     null|    null|                    null|     null|  null|  null| null|    null|   null|          null| null| null| null|  null|                   null|               null|                               null|                         null|            null|                       0|                      63|\n",
            "|5410943|Tucker and Paul a...|train|2017-06-14 05:08:...|            21|     null|    344096|approved|    0|  0|  0|    1|       0|               0.55|              0.0375|              0.3375|               0.275|              0.0375|              0.4875|                 0.0|null|  null|       null|        null|        null|                     null|    null|                    null|     null|  null|  null| null|    null|   null|          null| null| null| null|  null|                   null|               null|                               null|                         null|            null|                       0|                      80|\n",
            "|5730298|That is Child Abu...|train|2017-08-08 09:30:...|            55|     null|    364090|approved|    0|  0|  0|    1|       0|0.19298245614035087|                 0.0|                 0.0| 0.10526315789473684|                 0.0|0.035087719298245605| 0.07017543859649121|null|  null|       null|        null|        null|                     null|    null|                    null|     null|  null|  null| null|    null|   null|          null| null| null| null|  null|                   null|               null|                               null|                         null|            null|                       0|                      57|\n",
            "|5263240|Only a fool would...|train|2017-05-16 17:18:...|            54|5262909.0|    334963|approved|    2|  0|  1|    3|       5| 0.7105263157894737|0.013157894736842105| 0.06578947368421052|                 0.0|0.013157894736842105|  0.6578947368421053|0.013157894736842105|null|  null|       null|        null|        null|                     null|    null|                    null|     null|  null|  null| null|    null|   null|          null| null| null| null|  null|                   null|               null|                               null|                         null|            null|                       0|                      76|\n",
            "|5569999|Wow, some mental ...|train|2017-07-11 08:02:...|           100|5569583.0|    353850|approved|    3|  0|  0|    1|       0|  0.463768115942029|0.014492753623188406|0.014492753623188406|                 0.0|0.014492753623188406|   0.463768115942029|                 0.0|null|  null|       null|        null|        null|                     null|    null|                    null|     null|  null|  null| null|    null|   null|          null| null| null| null|  null|                   null|               null|                               null|                         null|            null|                       0|                      69|\n",
            "|5335665|Just who  does th...|train|2017-05-31 20:54:...|           102|     null|    339306|approved|    0|  0|  0|    2|       0| 0.5303030303030303|0.015151515151515154|0.015151515151515154|                 0.0|                 0.0|  0.5151515151515152|                 0.0|null|  null|       null|        null|        null|                     null|    null|                    null|     null|  null|  null| null|    null|   null|          null| null| null| null|  null|                   null|               null|                               null|                         null|            null|                       0|                      66|\n",
            "| 410090|This is just disg...|train|2016-07-31 15:46:...|            21|     null|    142699|approved|    0|  0|  0|    1|       0| 0.3448275862068966| 0.05172413793103448|0.017241379310344827|                 0.0|                 0.0|  0.3103448275862069| 0.05172413793103448|null|  null|       null|        null|        null|                     null|    null|                    null|     null|  null|  null| null|    null|   null|          null| null| null| null|  null|                   null|               null|                               null|                         null|            null|                       0|                      58|\n",
            "| 320268|because the Orego...|train|2016-05-19 22:22:...|            13| 320131.0|     86715|approved|    0|  0|  0|    0|       0| 0.7361111111111109|0.041666666666666664|               0.125|0.013888888888888888|0.027777777777777776|  0.7222222222222222|                 0.0|null|  null|       null|        null|        null|                     null|    null|                    null|     null|  null|  null| null|    null|   null|          null| null| null| null|  null|                   null|               null|                               null|                         null|            null|                       0|                      72|\n",
            "|5124938|\"IRT Marilyn\\nwha...|train|2017-04-12 16:39:...|            55|5124056.0|    326348|approved|    0|  0|  0|    3|       1| 0.8032786885245901|0.016393442622950817|0.049180327868852465|                 0.0|0.049180327868852465|  0.7704918032786885|                 0.0|null|  null|       null|        null|        null|                     null|    null|                    null|     null|  null|  null| null|    null|   null|          null| null| null| null|  null|                   null|               null|                               null|                         null|            null|                       0|                      61|\n",
            "|6158580|\"tsboy>  Klastri ...|train|2017-10-16 20:59:...|            55|6158008.0|    389494|approved|    0|  0|  0|    1|       0| 0.5606060606060606|                 0.0|0.015151515151515154|                 0.0|0.015151515151515154|  0.5909090909090909|                 0.0|null|  null|       null|        null|        null|                     null|    null|                    null|     null|  null|  null| null|    null|   null|          null| null| null| null|  null|                   null|               null|                               null|                         null|            null|                       0|                      66|\n",
            "| 641681|The tRump support...|train|2016-11-30 21:53:...|            21| 641489.0|    153658|approved|    0|  0|  0|    0|       0|  0.581081081081081|0.054054054054054064|  0.2972972972972973| 0.13513513513513514|0.027027027027027032|  0.3648648648648649| 0.08108108108108109|null|  null|       null|        null|        null|                     null|    null|                    null|     null|  null|  null| null|    null|   null|          null| null| null| null|  null|                   null|               null|                               null|                         null|            null|                       0|                      74|\n",
            "| 510371|Dunleavy. Another...|train|2016-10-06 07:48:...|            21|     null|    147752|approved|    0|  0|  0|   20|       0|             0.6875|               0.125|                 0.6|              0.0125|               0.075|               0.525|              0.0125|null|  null|       null|        null|        null|                     null|    null|                    null|     null|  null|  null| null|    null|   null|          null| null| null| null|  null|                   null|               null|                               null|                         null|            null|                       0|                      80|\n",
            "|5195592|Trump with brains...|train|2017-04-29 19:56:...|            54|5195396.0|    330638|approved|    0|  3|  1|    5|       0|0.36507936507936506|                 0.0|0.015873015873015872|                 0.0|                 0.0| 0.36507936507936506|                 0.0|null|  null|       null|        null|        null|                     null|    null|                    null|     null|  null|  null| null|    null|   null|          null| null| null| null|  null|                   null|               null|                               null|                         null|            null|                       0|                      63|\n",
            "|6183801|\"Seems more to me...|train|2017-10-19 22:39:...|           102|6182964.0|    391118|approved|    0|  0|  0|    1|       0| 0.3382352941176471|0.029411764705882363|                 0.0|                 0.0|  0.2352941176470588|  0.3088235294117647|                 0.0|null|  null|       null|        null|        null|                     null|    null|                    null|     null|  null|  null| null|    null|   null|          null| null| null| null|  null|                   null|               null|                               null|                         null|            null|                       0|                      68|\n",
            "|1047687|What an ugly orgy...|train|2017-02-26 13:50:...|            21|     null|    314654|approved|    0|  0|  0|    0|       0|              0.625|              0.0375|               0.075|              0.6125|                 0.0|               0.225|                 0.0|null|  null|       null|        null|        null|                     null|    null|                    null|     null|  null|  null| null|    null|   null|          null| null| null| null|  null|                   null|               null|                               null|                         null|            null|                       0|                      80|\n",
            "| 830155|Stupid is what st...|train|2017-01-12 18:07:...|            54| 828567.0|    161383|approved|    1|  0|  0|    0|       0| 0.9285714285714286|0.042857142857142864| 0.21428571428571427|                 0.0| 0.18571428571428567|   0.914285714285714|                 0.0|null|  null|       null|        null|        null|                     null|    null|                    null|     null|  null|  null| null|    null|   null|          null| null| null| null|  null|                   null|               null|                               null|                         null|            null|                       0|                      70|\n",
            "| 466610|Kind of like you ...|train|2016-09-09 04:58:...|            21| 466463.0|    145581|approved|    0|  0|  0|   20|       0| 0.5466666666666666|0.013333333333333334| 0.02666666666666667|                 0.0|0.013333333333333334|  0.5333333333333333|0.013333333333333334|null|  null|       null|        null|        null|                     null|    null|                    null|     null|  null|  null| null|    null|   null|          null| null| null| null|  null|                   null|               null|                               null|                         null|            null|                       0|                      75|\n",
            "|6242943|tens years ago i ...|train|2017-10-28 20:28:...|            21|     null|    394279|approved|    0|  0|  0|    1|       0| 0.8333333333333333|                 0.0|                 0.0|                 0.0|                 0.0|  0.8333333333333333|                 0.0|null|  null|       null|        null|        null|                     null|    null|                    null|     null|  null|  null| null|    null|   null|          null| null| null| null|  null|                   null|               null|                               null|                         null|            null|                       0|                       6|\n",
            "+-------+--------------------+-----+--------------------+--------------+---------+----------+--------+-----+---+---+-----+--------+-------------------+--------------------+--------------------+--------------------+--------------------+--------------------+--------------------+----+------+-----------+------------+------------+-------------------------+--------+------------------------+---------+------+------+-----+--------+-------+--------------+-----+-----+-----+------+-----------------------+-------------------+-----------------------------------+-----------------------------+----------------+------------------------+------------------------+\n",
            "only showing top 20 rows\n",
            "\n",
            "Total training record 3822\n",
            "+--------------------+--------------------+-----+--------------------+--------------+---------+----------+--------+-----+---+---+-----+--------+-------------------+--------------------+-------------------+------------------+--------------------+-------------------+--------------------+----+------+-----------+------------+------------+-------------------------+--------+------------------------+---------+------+------+-----+--------+-------+--------------+-----+-----+-----+------+-----------------------+-------------------+-----------------------------------+-----------------------------+----------------+------------------------+------------------------+\n",
            "|                  id|        comment_text|split|        created_date|publication_id|parent_id|article_id|  rating|funny|wow|sad|likes|disagree|           toxicity|     severe_toxicity|            obscene|   sexual_explicit|     identity_attack|             insult|              threat|male|female|transgender|other_gender|heterosexual|homosexual_gay_or_lesbian|bisexual|other_sexual_orientation|christian|jewish|muslim|hindu|buddhist|atheist|other_religion|black|white|asian|latino|other_race_or_ethnicity|physical_disability|intellectual_or_learning_disability|psychiatric_or_mental_illness|other_disability|identity_annotator_count|toxicity_annotator_count|\n",
            "+--------------------+--------------------+-----+--------------------+--------------+---------+----------+--------+-----+---+---+-----+--------+-------------------+--------------------+-------------------+------------------+--------------------+-------------------+--------------------+----+------+-----------+------------+------------+-------------------------+--------+------------------------+---------+------+------+-----+--------+-------+--------------+-----+-----+-----+------+-----------------------+-------------------+-----------------------------------+-----------------------------+----------------+------------------------+------------------------+\n",
            "|If you cop-sucker...| then go suck the...| test|2016-11-01 16:53:...|            13|     null|    149218|approved|    0|  0|  0|    0|       0| 0.8157894736842106| 0.06578947368421052| 0.5526315789473685|0.5921052631578946|                 0.0| 0.6842105263157895| 0.10526315789473684|null|  null|       null|        null|        null|                     null|    null|                    null|     null|  null|  null| null|    null|   null|          null| null| null| null|  null|                   null|               null|                               null|                         null|            null|                       0|                      76|\n",
            "|             7141509|NO !  There are n...| test|2017-01-30 02:53:...|            21| 919529.0|    164687|approved|    1|  0|  0|    0|       0| 0.5972222222222222|0.013888888888888888|0.09722222222222222|               0.0| 0.09722222222222222| 0.5833333333333334|                 0.0|null|  null|       null|        null|        null|                     null|    null|                    null|     null|  null|  null| null|    null|   null|          null| null| null| null|  null|                   null|               null|                               null|                         null|            null|                       0|                      72|\n",
            "|             7077814|the more you whin...| test|2016-12-03 00:17:...|            54| 649753.0|    154126|approved|    0|  0|  0|    0|       0|               0.65|                 0.0|               0.05|             0.125|                 0.0|                0.6|              0.1125|null|  null|       null|        null|        null|                     null|    null|                    null|     null|  null|  null| null|    null|   null|          null| null| null| null|  null|                   null|               null|                               null|                         null|            null|                       0|                      80|\n",
            "|             7147990|\"There's rarely o...| test|2017-09-13 16:37:...|           102|     null|    377304|approved|    1|  0|  0|    1|       2| 0.1111111111111111|                 0.0|                0.0|               0.0|                 0.0| 0.1111111111111111|                 0.0|null|  null|       null|        null|        null|                     null|    null|                    null|     null|  null|  null| null|    null|   null|          null| null| null| null|  null|                   null|               null|                               null|                         null|            null|                       0|                       9|\n",
            "|             7008066|The Law has every...| test|2017-07-09 07:03:...|            54|5556167.0|    353158|approved|    0|  0|  0|    0|       0|                0.8|                 0.1|                0.3|               0.3|                 0.1|                0.5|                 0.0|null|  null|       null|        null|        null|                     null|    null|                    null|     null|  null|  null| null|    null|   null|          null| null| null| null|  null|                   null|               null|                               null|                         null|            null|                       0|                      10|\n",
            "|             7078791|Those citizens of...| test|2017-09-23 14:32:...|            93|     null|    381136|approved|    0|  0|  0|    0|       0| 0.8333333333333333|                 0.0|0.16666666666666666|               0.0|                 0.0| 0.8333333333333333|                 0.0|null|  null|       null|        null|        null|                     null|    null|                    null|     null|  null|  null| null|    null|   null|          null| null| null| null|  null|                   null|               null|                               null|                         null|            null|                       0|                       6|\n",
            "|             7175529|I have, Don Nom D...| test|2016-09-12 18:56:...|            13| 471117.0|    145656|approved|    0|  0|  0|    1|       0|0.09090909090909093|                 0.0|                0.0|               0.0|                 0.0|0.09090909090909093|                 0.0|null|  null|       null|        null|        null|                     null|    null|                    null|     null|  null|  null| null|    null|   null|          null| null| null| null|  null|                   null|               null|                               null|                         null|            null|                       0|                      11|\n",
            "|             7136779|Good bye loser.Th...| test|2017-04-20 03:22:...|            21|     null|    328073|approved|    0|  0|  0|    1|       1|                1.0|                 0.0|                0.0|               0.0|                 0.0|                1.0|                 0.0|null|  null|       null|        null|        null|                     null|    null|                    null|     null|  null|  null| null|    null|   null|          null| null| null| null|  null|                   null|               null|                               null|                         null|            null|                       0|                       4|\n",
            "|             7037053|There are some in...| test|2017-03-08 16:41:...|            13|     null|    317616|approved|    0|  0|  0|    1|       0| 0.8653846153846154|  0.0576923076923077| 0.1153846153846154|               0.0|0.019230769230769232|  0.903846153846154|0.019230769230769232|null|  null|       null|        null|        null|                     null|    null|                    null|     null|  null|  null| null|    null|   null|          null| null| null| null|  null|                   null|               null|                               null|                         null|            null|                       0|                      52|\n",
            "|             7032124|There is silly, v...| test|2017-04-21 04:13:...|            54|     null|    328490|approved|    0|  0|  0|   14|       0|                0.9|                 0.1|                0.0|               0.0|                 0.0|                0.9|                 0.0|null|  null|       null|        null|        null|                     null|    null|                    null|     null|  null|  null| null|    null|   null|          null| null| null| null|  null|                   null|               null|                               null|                         null|            null|                       0|                      10|\n",
            "|                Dumb| sullen looks in ...| test|2017-09-15 19:02:...|           102|     null|    378258|approved|    0|  0|  0|    0|       0|            0.65625|            0.015625|           0.109375|               0.0|             0.03125|           0.671875|            0.015625|null|  null|       null|        null|        null|                     null|    null|                    null|     null|  null|  null| null|    null|   null|          null| null| null| null|  null|                   null|               null|                               null|                         null|            null|                       0|                      64|\n",
            "|             7159806|\"monster:  What t...| test|2017-06-10 15:17:...|            13|5389516.0|    342572|approved|    0|  0|  0|    0|       0| 0.6891891891891891| 0.06756756756756756| 0.5405405405405406|               0.0|                 0.0| 0.4324324324324325|                 0.0|null|  null|       null|        null|        null|                     null|    null|                    null|     null|  null|  null| null|    null|   null|          null| null| null| null|  null|                   null|               null|                               null|                         null|            null|                       0|                      74|\n",
            "|             7151832|Gee, has he done ...| test|2017-02-11 00:09:...|            54| 979765.0|    167479|approved|    1|  1|  1|    9|       0|             0.5125|              0.0125|             0.0125|               0.0|              0.0125|              0.525|                 0.0|null|  null|       null|        null|        null|                     null|    null|                    null|     null|  null|  null| null|    null|   null|          null| null| null| null|  null|                   null|               null|                               null|                         null|            null|                       0|                      80|\n",
            "|             7106626|Stop talking abou...| test|2016-06-29 16:37:...|            21|     null|    140297|approved|    0|  0|  0|    2|       0| 0.6857142857142857|0.028571428571428567|                0.1|               0.0|0.014285714285714284| 0.6714285714285714|                 0.0|null|  null|       null|        null|        null|                     null|    null|                    null|     null|  null|  null| null|    null|   null|          null| null| null| null|  null|                   null|               null|                               null|                         null|            null|                       0|                      70|\n",
            "|             7108841|I didn’t vote for...| test|2017-10-09 15:51:...|            54|6111413.0|    386756|approved|    0|  0|  0|    0|       2|                1.0|                 0.0|                0.0|               0.0|                 0.0|                1.0|                 0.0|null|  null|       null|        null|        null|                     null|    null|                    null|     null|  null|  null| null|    null|   null|          null| null| null| null|  null|                   null|               null|                               null|                         null|            null|                       0|                       4|\n",
            "|             7083627|OMG.  The article...| test|2017-02-01 02:27:...|            21|     null|    165318|approved|    1|  0|  0|   15|       1| 0.6885245901639344|                 0.0| 0.0819672131147541|               0.0|0.032786885245901634| 0.6885245901639344|0.016393442622950817|null|  null|       null|        null|        null|                     null|    null|                    null|     null|  null|  null| null|    null|   null|          null| null| null| null|  null|                   null|               null|                               null|                         null|            null|                       0|                      61|\n",
            "|             7014915|Donald Trump’s re...| test|2017-07-31 17:53:...|            21|     null|    361295|approved|    1|  0|  0|    0|       0| 0.5540540540540541|0.040540540540540536| 0.0945945945945946|               0.0|                 0.0| 0.5405405405405406|0.013513513513513514|null|  null|       null|        null|        null|                     null|    null|                    null|     null|  null|  null| null|    null|   null|          null| null| null| null|  null|                   null|               null|                               null|                         null|            null|                       0|                      74|\n",
            "|        Think harder|              Mike.\"| test|2016-10-11 15:24:...|            21| 521214.0|    148183|approved|    0|  0|  0|    3|       0|               0.55|               0.075|               0.45|               0.0|                0.05|             0.5375|                 0.0|null|  null|       null|        null|        null|                     null|    null|                    null|     null|  null|  null| null|    null|   null|          null| null| null| null|  null|                   null|               null|                               null|                         null|            null|                       0|                      80|\n",
            "|             7142589|Started writting ...| test|2017-10-05 13:34:...|            54|     null|    385595|approved|    0|  0|  0|   11|       2| 0.7704918032786885|0.032786885245901634|0.14754098360655735|               0.0|0.016393442622950817| 0.8032786885245901|0.016393442622950817|null|  null|       null|        null|        null|                     null|    null|                    null|     null|  null|  null| null|    null|   null|          null| null| null| null|  null|                   null|               null|                               null|                         null|            null|                       0|                      61|\n",
            "|             7070916|Typical Trumpster...| test|2017-02-15 11:56:...|            54| 997423.0|    168266|approved|    0|  0|  0|    2|       2| 0.5081967213114754|                 0.0|                0.0|               0.0|0.016393442622950817| 0.4754098360655738|                 0.0|null|  null|       null|        null|        null|                     null|    null|                    null|     null|  null|  null| null|    null|   null|          null| null| null| null|  null|                   null|               null|                               null|                         null|            null|                       0|                      61|\n",
            "+--------------------+--------------------+-----+--------------------+--------------+---------+----------+--------+-----+---+---+-----+--------+-------------------+--------------------+-------------------+------------------+--------------------+-------------------+--------------------+----+------+-----------+------------+------------+-------------------------+--------+------------------------+---------+------+------+-----+--------+-------+--------------+-----+-----+-----+------+-----------------------+-------------------+-----------------------------------+-----------------------------+----------------+------------------------+------------------------+\n",
            "only showing top 20 rows\n",
            "\n",
            "Total Testing record 429\n"
          ]
        }
      ],
      "source": [
        "train_df = sparkdf.filter((col(\"split\") == \"train\") & (col(\"rating\") == \"approved\"))\n",
        "train_df.show()\n",
        "traincount =train_df.count() \n",
        "print(f\"Total training record {traincount}\")\n",
        "\n",
        "test_df = sparkdf.filter((col(\"split\") == \"test\") & (col(\"rating\") == \"approved\"))\n",
        "test_df.show()\n",
        "testcount =test_df.count() \n",
        "print(f\"Total Testing record {testcount}\")"
      ]
    },
    {
      "cell_type": "code",
      "execution_count": null,
      "metadata": {
        "colab": {
          "base_uri": "https://localhost:8080/",
          "height": 472
        },
        "id": "F1p9rzw48AF8",
        "outputId": "95ecaeac-8e58-4320-e70f-bc680189caa3"
      },
      "outputs": [
        {
          "output_type": "display_data",
          "data": {
            "text/plain": [
              "<Figure size 640x480 with 1 Axes>"
            ],
            "image/png": "[encoded data removed]"
          },
          "metadata": {}
        }
      ],
      "source": [
        "data = train_df.select(col('toxicity').cast('float')).rdd.flatMap(lambda x: x).collect()\n",
        "\n",
        "plt.hist(data, bins=10)\n",
        "plt.xlabel('Toxicity')\n",
        "plt.ylabel('Count')\n",
        "plt.title('Frequency in toxicity of all training records')\n",
        "plt.show()"
      ]
    },
    {
      "cell_type": "code",
      "execution_count": null,
      "metadata": {
        "colab": {
          "base_uri": "https://localhost:8080/",
          "height": 472
        },
        "id": "FvpNyIUI8wdn",
        "outputId": "ecf6c4f9-edb7-4387-a61f-84ae05728b81"
      },
      "outputs": [
        {
          "output_type": "display_data",
          "data": {
            "text/plain": [
              "<Figure size 640x480 with 1 Axes>"
            ],
            "image/png": "[encoded data removed]"
          },
          "metadata": {}
        }
      ],
      "source": [
        "testdata = test_df.select(col('toxicity').cast('float')).rdd.flatMap(lambda x: x).collect()\n",
        "\n",
        "plt.hist(testdata, bins=10)\n",
        "plt.xlabel('Toxicity')\n",
        "plt.ylabel('Count')\n",
        "plt.title('Frequency in toxicity of all testing records')\n",
        "plt.show()"
      ]
    },
    {
      "cell_type": "code",
      "execution_count": null,
      "metadata": {
        "id": "bSxYht3NmV2y"
      },
      "outputs": [],
      "source": []
    },
    {
      "cell_type": "markdown",
      "metadata": {
        "id": "fG9a0DDnmY24"
      },
      "source": [
        "# LSTM"
      ]
    },
    {
      "cell_type": "code",
      "execution_count": null,
      "metadata": {
        "id": "aA4xT0PVmmCk"
      },
      "outputs": [],
      "source": [
        "import numpy as np\n",
        "import pandas as pd\n",
        "from tqdm import tqdm\n",
        "tqdm.pandas()\n",
        "from keras.models import Model\n",
        "from keras.layers import Input, Dense, Embedding, SpatialDropout1D, Dropout, add, concatenate\n",
        "from keras.layers import CuDNNLSTM, Bidirectional, GlobalMaxPooling1D, GlobalAveragePooling1D\n",
        "from keras.layers import LSTM\n",
        "from keras.optimizers import Adam\n",
        "from keras.preprocessing import text, sequence\n",
        "from keras.callbacks import LearningRateScheduler\n",
        "from keras.utils import pad_sequences\n",
        "from gensim.models import KeyedVectors"
      ]
    },
    {
      "cell_type": "code",
      "execution_count": null,
      "metadata": {
        "id": "9XkCBE8lo9z-"
      },
      "outputs": [],
      "source": [
        "#crawl-300d-2M.vec--> https://fasttext.cc/docs/en/english-vectors.html\n",
        "#When pre-train embedding is helpful? https://www.aclweb.org/anthology/N18-2084\n",
        "#There are many pretrained word embedding models: \n",
        "#fasttext, GloVe, Word2Vec, etc\n",
        "#crawl-300d-2M.vec is trained from Common Crawl (a website that collects almost everything)\n",
        "#it has 2 million words. Each word is represent by a vector of 300 dimensions.\n",
        "\n",
        "#https://nlp.stanford.edu/projects/glove/\n",
        "#GloVe is similar to crawl-300d-2M.vec. Probably, they use different algorithms.\n",
        "#glove.840B.300d.zip: Common Crawl (840B tokens, 2.2M vocab, cased, 300d vectors, 2.03 GB download)\n",
        "#tokens mean words. It has 2.2M different words and 840B (likely duplicated) words in total\n",
        "\n",
        "#note that these two pre-trained models give 300d vectors.\n",
        "\n",
        "EMBEDDING_FILES = [\n",
        "  #  'crawl-300d-2M.gensim',\n",
        "    'glove.840B.300d.gensim'\n",
        "]"
      ]
    },
    {
      "cell_type": "code",
      "execution_count": null,
      "metadata": {
        "id": "1dtqTTTLo_aa"
      },
      "outputs": [],
      "source": [
        "NUM_MODELS = 2\n",
        "BATCH_SIZE = 256  # number of training sample to put in theo model each step\n",
        "LSTM_UNITS = 64\n",
        "DENSE_HIDDEN_UNITS = 4 * LSTM_UNITS\n",
        "EPOCHS = 8\n",
        "\n",
        "# we will convert each word in a comment_text to a number.\n",
        "# So a comment_text is a list of number. How many numbers in this list?\n",
        "# we want the length of this list is a constant -> MAX_LEN\n",
        "MAX_LEN = 200\n",
        "\n",
        "# columns used in training and testing\n",
        "IDENTITY_COLUMNS = [\n",
        "    'male', 'female', 'homosexual_gay_or_lesbian', 'christian', 'jewish',\n",
        "    'muslim', 'black', 'white', 'psychiatric_or_mental_illness'\n",
        "]\n",
        "AUX_COLUMNS = ['toxicity', 'severe_toxicity', 'obscene', 'identity_attack', 'insult', 'threat']\n",
        "TEXT_COLUMN = 'comment_text'\n",
        "TARGET_COLUMN = 'toxicity'\n",
        "CHARS_TO_REMOVE = '!\"#$%&()*+,-./:;<=>?@[\\\\]^_`{|}~\\t\\n“”’\\'∞θ÷α•à−β∅³π‘₹´°£€\\×™√²—'\n"
      ]
    },
    {
      "cell_type": "code",
      "execution_count": null,
      "metadata": {
        "colab": {
          "base_uri": "https://localhost:8080/",
          "height": 423
        },
        "id": "HTgrIJwOkaRl",
        "outputId": "cca8791f-e775-4ac3-d23b-fa35ba901b5a"
      },
      "outputs": [
        {
          "output_type": "execute_result",
          "data": {
            "text/plain": [
              "      toxicity  severe_toxicity   obscene  identity_attack    insult    threat\n",
              "0     0.373134         0.044776  0.089552         0.000000  0.343284  0.014925\n",
              "1     0.605263         0.013158  0.065789         0.092105  0.565789  0.065789\n",
              "2     0.666667         0.015873  0.031746         0.047619  0.666667  0.000000\n",
              "3     0.550000         0.037500  0.337500         0.037500  0.487500  0.000000\n",
              "4     0.192982         0.000000  0.000000         0.000000  0.035088  0.070175\n",
              "...        ...              ...       ...              ...       ...       ...\n",
              "3817  0.800000         0.000000  0.000000         0.100000  0.800000  0.000000\n",
              "3818  0.900000         0.000000  0.600000         0.100000  0.900000  0.000000\n",
              "3819  0.525000         0.000000  0.025000         0.000000  0.475000  0.000000\n",
              "3820  1.000000         0.000000  0.000000         0.000000  1.000000  0.000000\n",
              "3821  0.712121         0.015152  0.060606         0.015152  0.727273  0.000000\n",
              "\n",
              "[3822 rows x 6 columns]"
            ],
            "text/html": [
              "\n",
              "  <div id=\"df-532ed994-6fe9-4c2b-bf64-3b917802e54e\">\n",
              "    <div class=\"colab-df-container\">\n",
              "      <div>\n",
              "<style scoped>\n",
              "    .dataframe tbody tr th:only-of-type {\n",
              "        vertical-align: middle;\n",
              "    }\n",
              "\n",
              "    .dataframe tbody tr th {\n",
              "        vertical-align: top;\n",
              "    }\n",
              "\n",
              "    .dataframe thead th {\n",
              "        text-align: right;\n",
              "    }\n",
              "</style>\n",
              "<table border=\"1\" class=\"dataframe\">\n",
              "  <thead>\n",
              "    <tr style=\"text-align: right;\">\n",
              "      <th></th>\n",
              "      <th>toxicity</th>\n",
              "      <th>severe_toxicity</th>\n",
              "      <th>obscene</th>\n",
              "      <th>identity_attack</th>\n",
              "      <th>insult</th>\n",
              "      <th>threat</th>\n",
              "    </tr>\n",
              "  </thead>\n",
              "  <tbody>\n",
              "    <tr>\n",
              "      <th>0</th>\n",
              "      <td>0.373134</td>\n",
              "      <td>0.044776</td>\n",
              "      <td>0.089552</td>\n",
              "      <td>0.000000</td>\n",
              "      <td>0.343284</td>\n",
              "      <td>0.014925</td>\n",
              "    </tr>\n",
              "    <tr>\n",
              "      <th>1</th>\n",
              "      <td>0.605263</td>\n",
              "      <td>0.013158</td>\n",
              "      <td>0.065789</td>\n",
              "      <td>0.092105</td>\n",
              "      <td>0.565789</td>\n",
              "      <td>0.065789</td>\n",
              "    </tr>\n",
              "    <tr>\n",
              "      <th>2</th>\n",
              "      <td>0.666667</td>\n",
              "      <td>0.015873</td>\n",
              "      <td>0.031746</td>\n",
              "      <td>0.047619</td>\n",
              "      <td>0.666667</td>\n",
              "      <td>0.000000</td>\n",
              "    </tr>\n",
              "    <tr>\n",
              "      <th>3</th>\n",
              "      <td>0.550000</td>\n",
              "      <td>0.037500</td>\n",
              "      <td>0.337500</td>\n",
              "      <td>0.037500</td>\n",
              "      <td>0.487500</td>\n",
              "      <td>0.000000</td>\n",
              "    </tr>\n",
              "    <tr>\n",
              "      <th>4</th>\n",
              "      <td>0.192982</td>\n",
              "      <td>0.000000</td>\n",
              "      <td>0.000000</td>\n",
              "      <td>0.000000</td>\n",
              "      <td>0.035088</td>\n",
              "      <td>0.070175</td>\n",
              "    </tr>\n",
              "    <tr>\n",
              "      <th>...</th>\n",
              "      <td>...</td>\n",
              "      <td>...</td>\n",
              "      <td>...</td>\n",
              "      <td>...</td>\n",
              "      <td>...</td>\n",
              "      <td>...</td>\n",
              "    </tr>\n",
              "    <tr>\n",
              "      <th>3817</th>\n",
              "      <td>0.800000</td>\n",
              "      <td>0.000000</td>\n",
              "      <td>0.000000</td>\n",
              "      <td>0.100000</td>\n",
              "      <td>0.800000</td>\n",
              "      <td>0.000000</td>\n",
              "    </tr>\n",
              "    <tr>\n",
              "      <th>3818</th>\n",
              "      <td>0.900000</td>\n",
              "      <td>0.000000</td>\n",
              "      <td>0.600000</td>\n",
              "      <td>0.100000</td>\n",
              "      <td>0.900000</td>\n",
              "      <td>0.000000</td>\n",
              "    </tr>\n",
              "    <tr>\n",
              "      <th>3819</th>\n",
              "      <td>0.525000</td>\n",
              "      <td>0.000000</td>\n",
              "      <td>0.025000</td>\n",
              "      <td>0.000000</td>\n",
              "      <td>0.475000</td>\n",
              "      <td>0.000000</td>\n",
              "    </tr>\n",
              "    <tr>\n",
              "      <th>3820</th>\n",
              "      <td>1.000000</td>\n",
              "      <td>0.000000</td>\n",
              "      <td>0.000000</td>\n",
              "      <td>0.000000</td>\n",
              "      <td>1.000000</td>\n",
              "      <td>0.000000</td>\n",
              "    </tr>\n",
              "    <tr>\n",
              "      <th>3821</th>\n",
              "      <td>0.712121</td>\n",
              "      <td>0.015152</td>\n",
              "      <td>0.060606</td>\n",
              "      <td>0.015152</td>\n",
              "      <td>0.727273</td>\n",
              "      <td>0.000000</td>\n",
              "    </tr>\n",
              "  </tbody>\n",
              "</table>\n",
              "<p>3822 rows × 6 columns</p>\n",
              "</div>\n",
              "      <button class=\"colab-df-convert\" onclick=\"convertToInteractive('df-532ed994-6fe9-4c2b-bf64-3b917802e54e')\"\n",
              "              title=\"Convert this dataframe to an interactive table.\"\n",
              "              style=\"display:none;\">\n",
              "        \n",
              "  <svg xmlns=\"http://www.w3.org/2000/svg\" height=\"24px\"viewBox=\"0 0 24 24\"\n",
              "       width=\"24px\">\n",
              "    <path d=\"M0 0h24v24H0V0z\" fill=\"none\"/>\n",
              "    <path d=\"M18.56 5.44l.94 2.06.94-2.06 2.06-.94-2.06-.94-.94-2.06-.94 2.06-2.06.94zm-11 1L8.5 8.5l.94-2.06 2.06-.94-2.06-.94L8.5 2.5l-.94 2.06-2.06.94zm10 10l.94 2.06.94-2.06 2.06-.94-2.06-.94-.94-2.06-.94 2.06-2.06.94z\"/><path d=\"M17.41 7.96l-1.37-1.37c-.4-.4-.92-.59-1.43-.59-.52 0-1.04.2-1.43.59L10.3 9.45l-7.72 7.72c-.78.78-.78 2.05 0 2.83L4 21.41c.39.39.9.59 1.41.59.51 0 1.02-.2 1.41-.59l7.78-7.78 2.81-2.81c.8-.78.8-2.07 0-2.86zM5.41 20L4 18.59l7.72-7.72 1.47 1.35L5.41 20z\"/>\n",
              "  </svg>\n",
              "      </button>\n",
              "      \n",
              "  <style>\n",
              "    .colab-df-container {\n",
              "      display:flex;\n",
              "      flex-wrap:wrap;\n",
              "      gap: 12px;\n",
              "    }\n",
              "\n",
              "    .colab-df-convert {\n",
              "      background-color: #E8F0FE;\n",
              "      border: none;\n",
              "      border-radius: 50%;\n",
              "      cursor: pointer;\n",
              "      display: none;\n",
              "      fill: #1967D2;\n",
              "      height: 32px;\n",
              "      padding: 0 0 0 0;\n",
              "      width: 32px;\n",
              "    }\n",
              "\n",
              "    .colab-df-convert:hover {\n",
              "      background-color: #E2EBFA;\n",
              "      box-shadow: 0px 1px 2px rgba(60, 64, 67, 0.3), 0px 1px 3px 1px rgba(60, 64, 67, 0.15);\n",
              "      fill: #174EA6;\n",
              "    }\n",
              "\n",
              "    [theme=dark] .colab-df-convert {\n",
              "      background-color: #3B4455;\n",
              "      fill: #D2E3FC;\n",
              "    }\n",
              "\n",
              "    [theme=dark] .colab-df-convert:hover {\n",
              "      background-color: #434B5C;\n",
              "      box-shadow: 0px 1px 3px 1px rgba(0, 0, 0, 0.15);\n",
              "      filter: drop-shadow(0px 1px 2px rgba(0, 0, 0, 0.3));\n",
              "      fill: #FFFFFF;\n",
              "    }\n",
              "  </style>\n",
              "\n",
              "      <script>\n",
              "        const buttonEl =\n",
              "          document.querySelector('#df-532ed994-6fe9-4c2b-bf64-3b917802e54e button.colab-df-convert');\n",
              "        buttonEl.style.display =\n",
              "          google.colab.kernel.accessAllowed ? 'block' : 'none';\n",
              "\n",
              "        async function convertToInteractive(key) {\n",
              "          const element = document.querySelector('#df-532ed994-6fe9-4c2b-bf64-3b917802e54e');\n",
              "          const dataTable =\n",
              "            await google.colab.kernel.invokeFunction('convertToInteractive',\n",
              "                                                     [key], {});\n",
              "          if (!dataTable) return;\n",
              "\n",
              "          const docLinkHtml = 'Like what you see? Visit the ' +\n",
              "            '<a target=\"_blank\" href=https://colab.research.google.com/notebooks/data_table.ipynb>data table notebook</a>'\n",
              "            + ' to learn more about interactive tables.';\n",
              "          element.innerHTML = '';\n",
              "          dataTable['output_type'] = 'display_data';\n",
              "          await google.colab.output.renderOutput(dataTable, element);\n",
              "          const docLink = document.createElement('div');\n",
              "          docLink.innerHTML = docLinkHtml;\n",
              "          element.appendChild(docLink);\n",
              "        }\n",
              "      </script>\n",
              "    </div>\n",
              "  </div>\n",
              "  "
            ]
          },
          "metadata": {},
          "execution_count": 21
        }
      ],
      "source": [
        "# convert the rdd to dataframe for training the model for testing\n",
        "tdf = train_df.toPandas()\n",
        "\n",
        "tdf[IDENTITY_COLUMNS].astype(float)\n",
        "tdf[AUX_COLUMNS].astype(float)\n",
        "\n",
        "# convert the rdd to dataframe for testing the model for testing\n",
        "testingdf = test_df.toPandas()\n",
        "\n",
        "testingdf[IDENTITY_COLUMNS].astype(float)\n",
        "testingdf[AUX_COLUMNS].astype(float)"
      ]
    },
    {
      "cell_type": "code",
      "execution_count": null,
      "metadata": {
        "id": "0xTXvtZwpA4K"
      },
      "outputs": [],
      "source": [
        "# code for matrix embedding and LSTM model \n",
        "\n",
        "def build_matrix(word_index, path):\n",
        "    embedding_index = KeyedVectors.load(path, mmap='r')\n",
        "    embedding_matrix = np.zeros((len(word_index) + 1, 300))\n",
        "    for word, i in word_index.items():\n",
        "        for candidate in [word, word.lower()]:\n",
        "            if candidate in embedding_index:\n",
        "                embedding_matrix[i] = embedding_index[candidate]\n",
        "                break\n",
        "    return embedding_matrix\n",
        "    \n",
        "\n",
        "def build_model(embedding_matrix, num_aux_targets):\n",
        "    # a simpler version can be found here\n",
        "    # https://www.tensorflow.org/tutorials/keras/text_classification\n",
        "\n",
        "    words = Input(shape=(None,))\n",
        "    x = Embedding(*embedding_matrix.shape, weights=[embedding_matrix], trainable=False)(words)\n",
        "\n",
        "    #here the author used pre-train embedding matrix.\n",
        "    #instead of train from begining like in tensorflow example\n",
        "    #https://stackoverflow.com/questions/50393666/how-to-understand-spatialdropout1d-and-when-to-use-it\n",
        "\n",
        "    x = SpatialDropout1D(0.2)(x)\n",
        "    #x = Bidirectional(CuDNNLSTM(LSTM_UNITS, return_sequences=True))(x)\n",
        "    #x = Bidirectional(CuDNNLSTM(LSTM_UNITS, return_sequences=True))(x)\n",
        "\n",
        "    # changed the CuDNNLSTM to LSTM as CuDNNLSTM was not supported\n",
        "    x = Bidirectional(LSTM(LSTM_UNITS, return_sequences=True))(x)\n",
        "    x = Bidirectional(LSTM(LSTM_UNITS, return_sequences=True))(x)\n",
        "\n",
        "    hidden = concatenate([\n",
        "        GlobalMaxPooling1D()(x),\n",
        "        GlobalAveragePooling1D()(x),\n",
        "    ])\n",
        "    hidden = add([hidden, Dense(DENSE_HIDDEN_UNITS, activation='relu')(hidden)])\n",
        "    hidden = add([hidden, Dense(DENSE_HIDDEN_UNITS, activation='relu')(hidden)])\n",
        "    result = Dense(1, activation='relu')(hidden)\n",
        "    aux_result = Dense(num_aux_targets, activation='relu')(hidden)\n",
        "    \n",
        "    model = Model(inputs=words, outputs=[result, aux_result])\n",
        "\n",
        "    #model.summary() will gives a good view of the model structure\n",
        "\n",
        "    model.compile(loss='categorical_crossentropy', optimizer='adam')    \n",
        "\n",
        "    return model"
      ]
    },
    {
      "cell_type": "code",
      "execution_count": null,
      "metadata": {
        "id": "bvPGKwRdHLJi"
      },
      "outputs": [],
      "source": [
        "train_df = tdf\n",
        "test_df = testingdf"
      ]
    },
    {
      "cell_type": "code",
      "execution_count": null,
      "metadata": {
        "id": "zFSK2MXj4JYG"
      },
      "outputs": [],
      "source": [
        "# making sure that the datatype is same after converting the rdd to df\n",
        "\n",
        "train_df['male'] = train_df['male'].astype('float64')\n",
        "train_df['female'] = train_df['female'].astype('float64')\n",
        "train_df['homosexual_gay_or_lesbian'] = train_df['homosexual_gay_or_lesbian'].astype('float64')\n",
        "train_df['christian'] = train_df['christian'].astype('float64')\n",
        "train_df['jewish'] = train_df['jewish'].astype('float64')\n",
        "train_df['muslim'] = train_df['muslim'].astype('float64')\n",
        "train_df['toxicity'] = train_df['toxicity'].astype('float64')\n",
        "train_df['severe_toxicity'] = train_df['severe_toxicity'].astype('float64')\n",
        "train_df['obscene'] = train_df['obscene'].astype('float64')\n",
        "train_df['identity_attack'] = train_df['identity_attack'].astype('float64')\n",
        "train_df['insult'] = train_df['insult'].astype('float64')\n",
        "train_df['threat'] = train_df['threat'].astype('float64')\n",
        "train_df['sexual_explicit'] = train_df['sexual_explicit'].astype('float64')\n",
        "train_df['bisexual'] = train_df['bisexual'].astype('float64')\n",
        "train_df['other_sexual_orientation'] = train_df['other_sexual_orientation'].astype('float64')\n",
        "train_df['transgender'] = train_df['transgender'].astype('float64')\n",
        "train_df['other_gender'] = train_df['other_gender'].astype('float64')\n",
        "train_df['heterosexual'] = train_df['heterosexual'].astype('float64')\n",
        "train_df['hindu'] = train_df['hindu'].astype('float64')\n",
        "\n",
        "train_df['buddhist'] = train_df['buddhist'].astype('float64')\n",
        "train_df['atheist'] = train_df['atheist'].astype('float64')\n",
        "train_df['black'] = train_df['black'].astype('float64')\n",
        "train_df['white'] = train_df['white'].astype('float64')\n",
        "train_df['asian'] = train_df['asian'].astype('float64')\n",
        "train_df['psychiatric_or_mental_illness'] = train_df['psychiatric_or_mental_illness'].astype('float64')\n",
        "\n",
        "\n",
        "train_df['funny'] = train_df['funny'].astype('int')\n",
        "train_df['wow'] = train_df['wow'].astype('int')\n",
        "train_df['sad'] = train_df['sad'].astype('int')\n",
        "train_df['likes'] = train_df['likes'].astype('int')\n",
        "train_df['disagree'] = train_df['disagree'].astype('int')"
      ]
    },
    {
      "cell_type": "code",
      "execution_count": null,
      "metadata": {
        "id": "OU4kG5jQpDFB"
      },
      "outputs": [],
      "source": [
        "# getting the dependent and independent variables.\n",
        "\n",
        "x_train = train_df[TEXT_COLUMN].astype(str)\n",
        "y_train = train_df[TARGET_COLUMN].values\n",
        "y_aux_train = train_df[AUX_COLUMNS].values\n",
        "x_test = test_df[TEXT_COLUMN].astype(str)"
      ]
    },
    {
      "cell_type": "code",
      "execution_count": null,
      "metadata": {
        "colab": {
          "base_uri": "https://localhost:8080/"
        },
        "id": "MS4IF0Jderpd",
        "outputId": "9b5b5aeb-c70b-46ab-e26d-e37d3579e522"
      },
      "outputs": [
        {
          "output_type": "execute_result",
          "data": {
            "text/plain": [
              "count    3822.000000\n",
              "mean        0.601960\n",
              "std         0.258405\n",
              "min         0.000725\n",
              "25%         0.420290\n",
              "50%         0.666667\n",
              "75%         0.800000\n",
              "max         1.000000\n",
              "Name: toxicity, dtype: float64"
            ]
          },
          "metadata": {},
          "execution_count": 27
        }
      ],
      "source": [
        "train_df['toxicity'].describe()"
      ]
    },
    {
      "cell_type": "code",
      "execution_count": null,
      "metadata": {
        "colab": {
          "base_uri": "https://localhost:8080/"
        },
        "id": "AhbqGQQFfduN",
        "outputId": "5f02a605-2ad4-49c2-cb6a-24fbd865ba06"
      },
      "outputs": [
        {
          "output_type": "stream",
          "name": "stdout",
          "text": [
            "id                                      object\n",
            "comment_text                            object\n",
            "split                                   object\n",
            "created_date                            object\n",
            "publication_id                          object\n",
            "parent_id                               object\n",
            "article_id                              object\n",
            "rating                                  object\n",
            "funny                                    int64\n",
            "wow                                      int64\n",
            "sad                                      int64\n",
            "likes                                    int64\n",
            "disagree                                 int64\n",
            "toxicity                               float64\n",
            "severe_toxicity                        float64\n",
            "obscene                                float64\n",
            "sexual_explicit                        float64\n",
            "identity_attack                        float64\n",
            "insult                                 float64\n",
            "threat                                 float64\n",
            "male                                   float64\n",
            "female                                 float64\n",
            "transgender                            float64\n",
            "other_gender                           float64\n",
            "heterosexual                           float64\n",
            "homosexual_gay_or_lesbian              float64\n",
            "bisexual                               float64\n",
            "other_sexual_orientation               float64\n",
            "christian                              float64\n",
            "jewish                                 float64\n",
            "muslim                                 float64\n",
            "hindu                                  float64\n",
            "buddhist                               float64\n",
            "atheist                                float64\n",
            "other_religion                         float64\n",
            "black                                  float64\n",
            "white                                  float64\n",
            "asian                                  float64\n",
            "latino                                  object\n",
            "other_race_or_ethnicity                 object\n",
            "physical_disability                     object\n",
            "intellectual_or_learning_disability     object\n",
            "psychiatric_or_mental_illness          float64\n",
            "other_disability                       float64\n",
            "identity_annotator_count                 int32\n",
            "toxicity_annotator_count                 int32\n",
            "dtype: object\n"
          ]
        }
      ],
      "source": [
        "print(train_df.dtypes)"
      ]
    },
    {
      "cell_type": "code",
      "execution_count": null,
      "metadata": {
        "id": "2mQHJlYKpEKf"
      },
      "outputs": [],
      "source": [
        "# getting the sample weights using the \n",
        "\n",
        "for column in IDENTITY_COLUMNS + [TARGET_COLUMN]:\n",
        "    #print(column)\n",
        "    #print(train_df[column])\n",
        "    train_df[column] = np.where(train_df[column] >= 0.5, True, False)\n",
        "\n",
        "tokenizer = text.Tokenizer(filters=CHARS_TO_REMOVE, lower=False)\n",
        "tokenizer.fit_on_texts(list(x_train) + list(x_test))\n",
        "\n",
        "x_train = tokenizer.texts_to_sequences(x_train)\n",
        "x_test = tokenizer.texts_to_sequences(x_test)\n",
        "\n",
        "# each comment_text is now a list of word\n",
        "# we want the length of this list is a constant -> MAX_LEN\n",
        "# if the list is longer, then we cut/trim it \n",
        "# if shorter, then we add/pad it with 0's at the beginning\n",
        "\n",
        "x_train = pad_sequences(x_train, maxlen=MAX_LEN)\n",
        "x_test = pad_sequences(x_test, maxlen=MAX_LEN)\n",
        "\n",
        "sample_weights = np.ones(len(x_train), dtype=np.float32)\n",
        "sample_weights += train_df[IDENTITY_COLUMNS].sum(axis=1)\n",
        "sample_weights += train_df[TARGET_COLUMN] * (~train_df[IDENTITY_COLUMNS]).sum(axis=1)\n",
        "sample_weights += (~train_df[TARGET_COLUMN]) * train_df[IDENTITY_COLUMNS].sum(axis=1) * 5\n",
        "sample_weights /= sample_weights.mean()\n",
        "\n",
        "embedding_matrix = np.concatenate(\n",
        "    [build_matrix(tokenizer.word_index, f) for f in EMBEDDING_FILES], axis=-1)\n",
        "\n",
        "checkpoint_predictions = []\n",
        "weights = []"
      ]
    },
    {
      "cell_type": "code",
      "execution_count": null,
      "metadata": {
        "colab": {
          "base_uri": "https://localhost:8080/"
        },
        "id": "GnqzKWaQpF2i",
        "outputId": "74cb22b2-8711-4968-fc67-09f5e5117a82"
      },
      "outputs": [
        {
          "output_type": "stream",
          "name": "stdout",
          "text": [
            "Epoch 1/2\n",
            "8/8 - 125s - loss: 1.0871 - dense_2_loss: 0.6109 - dense_3_loss: 0.4761 - 125s/epoch - 16s/step\n",
            "Epoch 2/2\n",
            "8/8 - 103s - loss: 0.9592 - dense_2_loss: 0.5852 - dense_3_loss: 0.3740 - 103s/epoch - 13s/step\n",
            "1/1 [==============================] - 7s 7s/step\n",
            "Epoch 1/2\n",
            "8/8 - 100s - loss: 0.9437 - dense_2_loss: 0.5819 - dense_3_loss: 0.3618 - 100s/epoch - 12s/step\n",
            "Epoch 2/2\n",
            "8/8 - 98s - loss: 0.9374 - dense_2_loss: 0.5804 - dense_3_loss: 0.3570 - 98s/epoch - 12s/step\n",
            "1/1 [==============================] - 4s 4s/step\n",
            "Epoch 1/2\n",
            "8/8 - 108s - loss: 0.9302 - dense_2_loss: 0.5786 - dense_3_loss: 0.3516 - 108s/epoch - 13s/step\n",
            "Epoch 2/2\n",
            "8/8 - 107s - loss: 0.9227 - dense_2_loss: 0.5770 - dense_3_loss: 0.3457 - 107s/epoch - 13s/step\n",
            "1/1 [==============================] - 4s 4s/step\n",
            "Epoch 1/2\n",
            "8/8 - 96s - loss: 0.9171 - dense_2_loss: 0.5756 - dense_3_loss: 0.3415 - 96s/epoch - 12s/step\n",
            "Epoch 2/2\n",
            "8/8 - 98s - loss: 0.9158 - dense_2_loss: 0.5774 - dense_3_loss: 0.3384 - 98s/epoch - 12s/step\n",
            "1/1 [==============================] - 4s 4s/step\n",
            "Epoch 1/2\n",
            "8/8 - 100s - loss: 0.9157 - dense_2_loss: 0.5778 - dense_3_loss: 0.3379 - 100s/epoch - 13s/step\n",
            "Epoch 2/2\n",
            "8/8 - 97s - loss: 0.9101 - dense_2_loss: 0.5747 - dense_3_loss: 0.3354 - 97s/epoch - 12s/step\n",
            "1/1 [==============================] - 5s 5s/step\n",
            "Epoch 1/2\n",
            "8/8 - 99s - loss: 0.9049 - dense_2_loss: 0.5725 - dense_3_loss: 0.3325 - 99s/epoch - 12s/step\n",
            "Epoch 2/2\n",
            "8/8 - 97s - loss: 0.9020 - dense_2_loss: 0.5718 - dense_3_loss: 0.3302 - 97s/epoch - 12s/step\n",
            "1/1 [==============================] - 5s 5s/step\n",
            "Epoch 1/2\n",
            "8/8 - 101s - loss: 0.8964 - dense_2_loss: 0.5697 - dense_3_loss: 0.3267 - 101s/epoch - 13s/step\n",
            "Epoch 2/2\n",
            "8/8 - 99s - loss: 0.8927 - dense_2_loss: 0.5680 - dense_3_loss: 0.3248 - 99s/epoch - 12s/step\n",
            "1/1 [==============================] - 4s 4s/step\n",
            "Epoch 1/2\n",
            "8/8 - 99s - loss: 0.8886 - dense_2_loss: 0.5663 - dense_3_loss: 0.3222 - 99s/epoch - 12s/step\n",
            "Epoch 2/2\n",
            "8/8 - 97s - loss: 0.8861 - dense_2_loss: 0.5654 - dense_3_loss: 0.3207 - 97s/epoch - 12s/step\n",
            "1/1 [==============================] - 4s 4s/step\n",
            "Epoch 1/2\n",
            "8/8 - 113s - loss: 1.0632 - dense_6_loss: 0.6040 - dense_7_loss: 0.4592 - 113s/epoch - 14s/step\n",
            "Epoch 2/2\n",
            "8/8 - 100s - loss: 0.9588 - dense_6_loss: 0.5885 - dense_7_loss: 0.3703 - 100s/epoch - 12s/step\n",
            "1/1 [==============================] - 6s 6s/step\n",
            "Epoch 1/2\n",
            "8/8 - 103s - loss: 0.9433 - dense_6_loss: 0.5833 - dense_7_loss: 0.3600 - 103s/epoch - 13s/step\n",
            "Epoch 2/2\n",
            "8/8 - 100s - loss: 0.9351 - dense_6_loss: 0.5802 - dense_7_loss: 0.3549 - 100s/epoch - 13s/step\n",
            "1/1 [==============================] - 6s 6s/step\n",
            "Epoch 1/2\n",
            "8/8 - 101s - loss: 0.9290 - dense_6_loss: 0.5794 - dense_7_loss: 0.3497 - 101s/epoch - 13s/step\n",
            "Epoch 2/2\n",
            "8/8 - 105s - loss: 0.9226 - dense_6_loss: 0.5774 - dense_7_loss: 0.3452 - 105s/epoch - 13s/step\n",
            "1/1 [==============================] - 4s 4s/step\n",
            "Epoch 1/2\n",
            "8/8 - 114s - loss: 0.9183 - dense_6_loss: 0.5766 - dense_7_loss: 0.3418 - 114s/epoch - 14s/step\n",
            "Epoch 2/2\n",
            "8/8 - 108s - loss: 0.9159 - dense_6_loss: 0.5764 - dense_7_loss: 0.3395 - 108s/epoch - 14s/step\n",
            "1/1 [==============================] - 4s 4s/step\n",
            "Epoch 1/2\n",
            "8/8 - 105s - loss: 0.9115 - dense_6_loss: 0.5758 - dense_7_loss: 0.3357 - 105s/epoch - 13s/step\n",
            "Epoch 2/2\n",
            "8/8 - 109s - loss: 0.9074 - dense_6_loss: 0.5732 - dense_7_loss: 0.3342 - 109s/epoch - 14s/step\n",
            "1/1 [==============================] - 4s 4s/step\n",
            "Epoch 1/2\n",
            "8/8 - 101s - loss: 0.9058 - dense_6_loss: 0.5742 - dense_7_loss: 0.3316 - 101s/epoch - 13s/step\n",
            "Epoch 2/2\n",
            "8/8 - 100s - loss: 0.9039 - dense_6_loss: 0.5735 - dense_7_loss: 0.3303 - 100s/epoch - 12s/step\n",
            "1/1 [==============================] - 5s 5s/step\n",
            "Epoch 1/2\n",
            "8/8 - 101s - loss: 0.9017 - dense_6_loss: 0.5733 - dense_7_loss: 0.3284 - 101s/epoch - 13s/step\n",
            "Epoch 2/2\n",
            "8/8 - 109s - loss: 0.8958 - dense_6_loss: 0.5702 - dense_7_loss: 0.3256 - 109s/epoch - 14s/step\n",
            "1/1 [==============================] - 4s 4s/step\n",
            "Epoch 1/2\n",
            "8/8 - 109s - loss: 0.8918 - dense_6_loss: 0.5678 - dense_7_loss: 0.3240 - 109s/epoch - 14s/step\n",
            "Epoch 2/2\n",
            "8/8 - 102s - loss: 0.8890 - dense_6_loss: 0.5669 - dense_7_loss: 0.3222 - 102s/epoch - 13s/step\n",
            "1/1 [==============================] - 4s 4s/step\n"
          ]
        }
      ],
      "source": [
        "# training the model\n",
        "for model_idx in range(NUM_MODELS):\n",
        "    model = build_model(embedding_matrix, y_aux_train.shape[-1])\n",
        "    for global_epoch in range(EPOCHS):\n",
        "        model.fit(\n",
        "            x_train,\n",
        "            [y_train, y_aux_train],\n",
        "            batch_size=BATCH_SIZE,\n",
        "            epochs=2,\n",
        "            verbose=2,\n",
        "            sample_weight=[sample_weights.values, np.ones_like(sample_weights)]\n",
        "        )\n",
        "        checkpoint_predictions.append(model.predict(x_test, batch_size=2048)[0].flatten())\n",
        "        weights.append(2 ** global_epoch)"
      ]
    },
    {
      "cell_type": "code",
      "execution_count": null,
      "metadata": {
        "id": "GWr7nZF8pHA3"
      },
      "outputs": [],
      "source": [
        "# saving the result in a csv file\n",
        "\n",
        "predictions = np.average(checkpoint_predictions, weights=weights, axis=0)\n",
        "\n",
        "results = pd.DataFrame.from_dict({\n",
        "    'id': test_df.id,\n",
        "    'text': test_df.comment_text,\n",
        "    'prediction': predictions,\n",
        "    'original': test_df.toxicity\n",
        "})\n",
        "\n",
        "\n",
        "\n",
        "results.to_csv('results.csv', index=False)"
      ]
    },
    {
      "cell_type": "code",
      "execution_count": null,
      "metadata": {
        "id": "eAC628wDos9_"
      },
      "outputs": [],
      "source": []
    }
  ],
  "metadata": {
    "colab": {
      "provenance": []
    },
    "gpuClass": "standard",
    "kernelspec": {
      "display_name": "Python 3",
      "name": "python3"
    },
    "language_info": {
      "name": "python"
    }
  },
  "nbformat": 4,
  "nbformat_minor": 0
}